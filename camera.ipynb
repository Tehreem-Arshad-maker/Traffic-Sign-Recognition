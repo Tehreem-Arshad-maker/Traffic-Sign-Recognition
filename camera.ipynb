{
 "cells": [
  {
   "cell_type": "code",
   "execution_count": 1,
   "id": "2531bb37",
   "metadata": {},
   "outputs": [],
   "source": [
    "import numpy as np\n",
    "import cv2\n",
    "import pickle4 as pickle\n",
    "from tensorflow.keras.models import load_model"
   ]
  },
  {
   "cell_type": "code",
   "execution_count": 2,
   "id": "18c49045",
   "metadata": {},
   "outputs": [],
   "source": [
    "frameWidth= 640         # CAMERA RESOLUTION\n",
    "frameHeight = 480\n",
    "brightness = 180\n",
    "threshold = 0.75         # PROBABLITY THRESHOLD\n",
    "font = cv2.FONT_HERSHEY_SIMPLEX"
   ]
  },
  {
   "cell_type": "code",
   "execution_count": 3,
   "id": "d9739abc",
   "metadata": {},
   "outputs": [],
   "source": [
    "model=load_model('model_1.h5')"
   ]
  },
  {
   "cell_type": "code",
   "execution_count": 4,
   "id": "3d48f04e",
   "metadata": {},
   "outputs": [],
   "source": [
    "cap = cv2.VideoCapture(0)\n"
   ]
  },
  {
   "cell_type": "code",
   "execution_count": 5,
   "id": "6f5fb440",
   "metadata": {},
   "outputs": [],
   "source": [
    "def grayscale(img):\n",
    "    img = cv2.cvtColor(img,cv2.COLOR_BGR2GRAY)\n",
    "    return img\n",
    "def equalize(img):\n",
    "    img =cv2.equalizeHist(img)\n",
    "    return img\n",
    "def preprocessing(img):\n",
    "    img = grayscale(img)\n",
    "    img = equalize(img)\n",
    "    img = img/255\n",
    "    return img\n",
    "def getCalssName(classNo):\n",
    "    if   classNo == 0:\n",
    "        return 'Speed Limit 20 km/h'\n",
    "    elif classNo == 1:\n",
    "        return 'Speed Limit 30 km/h'\n",
    "    elif classNo == 2:\n",
    "        return 'Speed Limit 50 km/h'\n",
    "    elif classNo == 3:\n",
    "        return 'Speed Limit 60 km/h'\n",
    "    elif classNo == 4:\n",
    "        return 'Speed Limit 70 km/h'\n",
    "    elif classNo == 5:\n",
    "        return 'Speed Limit 80 km/h'\n",
    "    elif classNo == 6:\n",
    "        return 'End of Speed Limit 80 km/h'\n",
    "    elif classNo == 7:\n",
    "        return 'Speed Limit 100 km/h'\n",
    "    elif classNo == 8:\n",
    "        return 'Speed Limit 120 km/h'\n",
    "    elif classNo == 9:\n",
    "        return 'No passing'\n",
    "    elif classNo == 10:\n",
    "        return 'No passing for vechiles over 3.5 metric tons'\n",
    "    elif classNo == 11:\n",
    "        return 'Right-of-way at the next intersection'\n",
    "    elif classNo == 12:\n",
    "        return 'Priority road'\n",
    "    elif classNo == 13:\n",
    "        return 'Yield'\n",
    "    elif classNo == 14:\n",
    "        return 'Stop'\n",
    "    elif classNo == 15:\n",
    "        return 'No vechiles'\n",
    "    elif classNo == 16:\n",
    "        return 'Vechiles over 3.5 metric tons prohibited'\n",
    "    elif classNo == 17:\n",
    "        return 'No entry'\n",
    "    elif classNo == 18:\n",
    "        return 'General caution'\n",
    "    elif classNo == 19:\n",
    "        return 'Dangerous curve to the left'\n",
    "    elif classNo == 20:\n",
    "        return 'Dangerous curve to the right'\n",
    "    elif classNo == 21:\n",
    "        return 'Double curve'\n",
    "    elif classNo == 22:\n",
    "        return 'Bumpy road'\n",
    "    elif classNo == 23:\n",
    "        return 'Slippery road'\n",
    "    elif classNo == 24:\n",
    "        return 'Road narrows on the right'\n",
    "    elif classNo == 25:\n",
    "        return 'Road work'\n",
    "    elif classNo == 26:\n",
    "        return 'Traffic signals'\n",
    "    elif classNo == 27:\n",
    "        return 'Pedestrians'\n",
    "    elif classNo == 28:\n",
    "        return 'Children crossing'\n",
    "    elif classNo == 29:\n",
    "        return 'Bicycles crossing'\n",
    "    elif classNo == 30:\n",
    "        return 'Beware of ice/snow'\n",
    "    elif classNo == 31:\n",
    "        return 'Wild animals crossing'\n",
    "    elif classNo == 32:\n",
    "        return 'End of all speed and passing limits'\n",
    "    elif classNo == 33:\n",
    "        return 'Turn right ahead'\n",
    "    elif classNo == 34:\n",
    "        return 'Turn left ahead'\n",
    "    elif classNo == 35:\n",
    "        return 'Ahead only'\n",
    "    elif classNo == 36:\n",
    "        return 'Go straight or right'\n",
    "    elif classNo == 37:\n",
    "        return 'Go straight or left'\n",
    "    elif classNo == 38:\n",
    "        return 'Keep right'\n",
    "    elif classNo == 39:\n",
    "        return 'Keep left'\n",
    "    elif classNo == 40:\n",
    "        return 'Roundabout mandatory'\n",
    "    elif classNo == 41:\n",
    "        return 'End of no passing'\n",
    "    elif classNo == 42:\n",
    "        return 'End of no passing by vechiles over 3.5 metric tons'\n",
    " "
   ]
  },
  {
   "cell_type": "code",
   "execution_count": 6,
   "id": "cb34f4c2",
   "metadata": {
    "scrolled": true
   },
   "outputs": [
    {
     "name": "stdout",
     "output_type": "stream",
     "text": [
      "1/1 [==============================] - 0s 122ms/step\n"
     ]
    }
   ],
   "source": [
    "imgOrignal = cv2.imread(r\"C:\\Users\\tehre\\Downloads\\Traffic sign recognition project\\myData\\40\\40_4216_1577671993.3596916.png\")\n",
    "#success, imgOrignal = cap.read()\n",
    "img = np.asarray(imgOrignal)\n",
    "img = cv2.resize(img, (32, 32))\n",
    "img = preprocessing(img)\n",
    "cv2.imshow(\"Processed Image\", img)\n",
    "img = img.reshape(1, 32, 32, 1)\n",
    "cv2.putText(imgOrignal, \"CLASS: \" , (20, 35), font, 0.75, (0, 0, 255), 2, cv2.LINE_AA)\n",
    "cv2.putText(imgOrignal, \"PROBABILITY: \", (20, 75), font, 0.75, (0, 0, 255), 2, cv2.LINE_AA)\n",
    "predictions = model.predict(img)\n"
   ]
  },
  {
   "cell_type": "code",
   "execution_count": 7,
   "id": "ec834f16",
   "metadata": {},
   "outputs": [
    {
     "data": {
      "text/plain": [
       "40"
      ]
     },
     "execution_count": 7,
     "metadata": {},
     "output_type": "execute_result"
    }
   ],
   "source": [
    "classIndex=np.argmax(predictions)\n",
    "classIndex"
   ]
  },
  {
   "cell_type": "code",
   "execution_count": 8,
   "id": "18fabb63",
   "metadata": {},
   "outputs": [
    {
     "data": {
      "text/plain": [
       "'Roundabout mandatory'"
      ]
     },
     "execution_count": 8,
     "metadata": {},
     "output_type": "execute_result"
    }
   ],
   "source": [
    "getCalssName(classIndex)"
   ]
  },
  {
   "cell_type": "code",
   "execution_count": 9,
   "id": "ffa8b6dd",
   "metadata": {},
   "outputs": [],
   "source": [
    "probabilityValue =np.amax(predictions)\n",
    "if probabilityValue > threshold:\n",
    "    cv2.putText(imgOrignal,str(classIndex)+\" \"+str(getCalssName(classIndex)), (120, 35), font, 0.75, (0, 0, 255), 2, cv2.LINE_AA)\n",
    "    cv2.putText(imgOrignal, str(round(probabilityValue*100,2) )+\"%\", (180, 75), font, 0.75, (0, 0, 255), 2, cv2.LINE_AA)\n",
    "    cv2.imshow(\"Result\", imgOrignal)\n",
    "else:\n",
    "    print('Not acceptable')\n"
   ]
  },
  {
   "cell_type": "code",
   "execution_count": null,
   "id": "87b14180",
   "metadata": {},
   "outputs": [],
   "source": []
  },
  {
   "cell_type": "code",
   "execution_count": 10,
   "id": "24bb0b2c",
   "metadata": {},
   "outputs": [],
   "source": [
    "#   success, imgOrignal = cap.read()\n",
    " #   img = np.asarray(imgOrignal)\n",
    "  #  img = cv2.resize(img, (32, 32))\n",
    "   # img = preprocessing(img)\n",
    "    #cv2.imshow(\"Processed Image\", img)\n",
    "    #img = img.reshape(1, 32, 32, 1)\n",
    "    #cv2.putText(imgOrignal, \"CLASS: \" , (20, 35), font, 0.75, (0, 0, 255), 2, cv2.LINE_AA)\n",
    "  #  cv2.putText(imgOrignal, \"PROBABILITY: \", (20, 75), font, 0.75, (0, 0, 255), 2, cv2.LINE_AA)\n",
    "   # predictions = model.predict(img)\n",
    "  #  #classIndex=np.argmax(predictions)\n",
    "   # probabilityValue =np.amax(predictions)\n",
    "    #if probabilityValue > threshold:\n",
    "     #   cv2.putText(imgOrignal,str(classIndex)+\" \"+str(getCalssName(classIndex)), (120, 35), font, 0.75, (0, 0, 255), 2, cv2.LINE_AA)\n",
    "      #  cv2.putText(imgOrignal, str(round(probabilityValue*100,2) )+\"%\", (180, 75), font, 0.75, (0, 0, 255), 2, cv2.LINE_AA)\n",
    "       # cv2.imshow(\"Result\", imgOrignal)\n",
    " \n",
    "#if cv2.waitKey(1) and 0xFF == ord('q'):\n",
    " #   break"
   ]
  },
  {
   "cell_type": "code",
   "execution_count": 11,
   "id": "eb46e407",
   "metadata": {},
   "outputs": [],
   "source": [
    "#while True:\n",
    " #   success, imgOrignal = cap.read()\n",
    "  #  img = np.asarray(imgOrignal)\n",
    "   # img = cv2.resize(img, (32, 32))\n",
    "    #img = preprocessing(img)\n",
    "    #cv2.imshow(\"Processed Image\", img)\n",
    "    #img = img.reshape(1, 32, 32, 1)\n",
    "    #cv2.putText(imgOrignal, \"CLASS: \" , (20, 35), font, 0.75, (0, 0, 255), 2, cv2.LINE_AA)\n",
    "    #cv2.putText(imgOrignal, \"PROBABILITY: \", (20, 75), font, 0.75, (0, 0, 255), 2, cv2.LINE_AA)\n",
    "    #predictions = model.predict(img)\n",
    "    #classIndex = predictions[0]\n",
    "    #probabilityValue =np.amax(predictions)\n",
    "    #if probabilityValue > threshold:\n",
    "     #   cv2.putText(imgOrignal,str(classIndex)+\" \"+str(getCalssName(classIndex)), (120, 35), font, 0.75, (0, 0, 255), 2, cv2.LINE_AA)\n",
    "      #  cv2.putText(imgOrignal, str(round(probabilityValue*100,2) )+\"%\", (180, 75), font, 0.75, (0, 0, 255), 2, cv2.LINE_AA)\n",
    "       # cv2.imshow(\"Result\", imgOrignal)\n",
    " \n",
    "# if cv2.waitKey(1) and 0xFF == ord('q'):\n",
    " #   break"
   ]
  },
  {
   "cell_type": "code",
   "execution_count": 12,
   "id": "14ba4c4d",
   "metadata": {},
   "outputs": [
    {
     "data": {
      "text/plain": [
       "1"
      ]
     },
     "execution_count": 12,
     "metadata": {},
     "output_type": "execute_result"
    }
   ],
   "source": [
    "x = np.array([3,5,2,1])\n",
    "np.argmax(x)"
   ]
  },
  {
   "cell_type": "code",
   "execution_count": 13,
   "id": "e8f175c4",
   "metadata": {},
   "outputs": [],
   "source": [
    "# IMPORT THE TRANNIED MODEL\n",
    "#pickle_in = open(\"model_trained.p\",\"rb\")  ## rb = READ BYTE\n",
    "#model=pickle.load(pickle_in)"
   ]
  },
  {
   "cell_type": "code",
   "execution_count": null,
   "id": "dd018a50",
   "metadata": {},
   "outputs": [],
   "source": []
  }
 ],
 "metadata": {
  "kernelspec": {
   "display_name": "Python 3 (ipykernel)",
   "language": "python",
   "name": "python3"
  },
  "language_info": {
   "codemirror_mode": {
    "name": "ipython",
    "version": 3
   },
   "file_extension": ".py",
   "mimetype": "text/x-python",
   "name": "python",
   "nbconvert_exporter": "python",
   "pygments_lexer": "ipython3",
   "version": "3.10.4"
  }
 },
 "nbformat": 4,
 "nbformat_minor": 5
}
